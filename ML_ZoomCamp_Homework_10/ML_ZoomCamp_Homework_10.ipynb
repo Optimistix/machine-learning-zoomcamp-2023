{
 "cells": [
  {
   "cell_type": "markdown",
   "id": "bbe4145e-f009-4615-a458-c9db9954b097",
   "metadata": {},
   "source": [
    "# Question 1\n",
    "\n",
    "Built Docker image using\n",
    "\n",
    "docker build -t zoomcamp-model:hw10 .\n",
    "\n",
    "and then ran it using\n",
    "\n",
    "docker run -it --rm -p 9696:9696 zoomcamp-model:hw10\n",
    "\n",
    "Now we run python q6_test.py:"
   ]
  },
  {
   "cell_type": "code",
   "execution_count": 1,
   "id": "3a03f070-b3c1-4c35-b74c-346f17aec07a",
   "metadata": {},
   "outputs": [
    {
     "name": "stdout",
     "output_type": "stream",
     "text": [
      "{'get_credit': True, 'get_credit_probability': 0.726936946355423}\n"
     ]
    }
   ],
   "source": [
    "!python q6_test.py"
   ]
  },
  {
   "cell_type": "markdown",
   "id": "ea100ff3-39af-4956-a92f-868ec72565d8",
   "metadata": {},
   "source": [
    "<b> Answer 1: 0.7269 </b>"
   ]
  },
  {
   "cell_type": "markdown",
   "id": "2bf03d9f-e287-496c-9643-f39cc7165660",
   "metadata": {},
   "source": [
    "# Question 2\n",
    "What's the version of kind that you have?\n",
    "\n",
    "Use kind --version to find out."
   ]
  },
  {
   "cell_type": "code",
   "execution_count": 3,
   "id": "ce642c2a-219b-4643-83da-e79a7c4d4e22",
   "metadata": {},
   "outputs": [
    {
     "name": "stdout",
     "output_type": "stream",
     "text": [
      "kind version 0.20.0\n"
     ]
    }
   ],
   "source": [
    "!kind --version"
   ]
  },
  {
   "cell_type": "markdown",
   "id": "73fe0901-0ae8-4683-ac26-a23e21eb0bf3",
   "metadata": {},
   "source": [
    "<b> Answer 2: 0.20.0 </b>"
   ]
  },
  {
   "cell_type": "markdown",
   "id": "b592af9d-7bae-48ce-86c2-dd3f889db278",
   "metadata": {},
   "source": [
    "# Question 3\n",
    "Now let's test if everything works. Use kubectl to get the list of running services.\n",
    "\n",
    "What's CLUSTER-IP of the service that is already running there?"
   ]
  },
  {
   "cell_type": "code",
   "execution_count": 4,
   "id": "bc86ff2b-2b84-49e7-8ccf-7680ff28e0bc",
   "metadata": {},
   "outputs": [
    {
     "name": "stdout",
     "output_type": "stream",
     "text": [
      "NAME         TYPE        CLUSTER-IP   EXTERNAL-IP   PORT(S)   AGE\n",
      "kubernetes   ClusterIP   10.96.0.1    <none>        443/TCP   3d4h\n"
     ]
    }
   ],
   "source": [
    "!kubectl get service"
   ]
  },
  {
   "cell_type": "markdown",
   "id": "0a44dd04-4c12-402b-9231-acebc10bd101",
   "metadata": {},
   "source": [
    "<b> Answer 3: 10.96.0.1 </b>"
   ]
  },
  {
   "cell_type": "markdown",
   "id": "678ee301-28fb-4e52-b032-c1af207ab473",
   "metadata": {},
   "source": [
    "# Question 4\n",
    "To be able to use the docker image we previously created (zoomcamp-model:hw10), we need to register it with kind.\n",
    "\n",
    "\n",
    "What's the command we need to run for that?\n",
    "\n",
    "kind create cluster <br>\n",
    "kind build node-image <br>\n",
    "kind load docker-image <br>\n",
    "kubectl apply"
   ]
  },
  {
   "cell_type": "markdown",
   "id": "a4229698-fc2c-46fe-833d-1c41223573c3",
   "metadata": {},
   "source": [
    "<b> Answer 4: kind load docker-image </b>"
   ]
  },
  {
   "cell_type": "markdown",
   "id": "48552638-7ca8-4ebc-9453-2a03ec4f3f19",
   "metadata": {},
   "source": [
    "# Question 5\n",
    "Now let's create a deployment config (e.g. deployment.yaml):\n",
    "\n",
    "Replace Image, Memory, CPU, Port with the correct values.\n",
    "\n",
    "What is the value for Port?\n",
    "\n",
    "Apply this deployment using the appropriate command and get a list of running Pods. You can see one running Pod."
   ]
  },
  {
   "cell_type": "markdown",
   "id": "641ec26f-f463-4049-8dc3-20bae3871ca2",
   "metadata": {},
   "source": [
    "<b> Answer 5: 9696 </b> (also see filled in deployment.yaml in the folder)"
   ]
  },
  {
   "cell_type": "markdown",
   "id": "745d5676-6b9d-43dd-8406-a546f90aa51b",
   "metadata": {},
   "source": [
    "# Question 6\n",
    "Let's create a service for this deployment (service.yaml):\n",
    "\n",
    "What do we need to write instead of ???"
   ]
  },
  {
   "cell_type": "markdown",
   "id": "d4209044-a6ff-46bf-b2c5-3fbeed6380a0",
   "metadata": {},
   "source": [
    "<b> Answer 6: credit </b> (also see filled in service.yaml in the folder)"
   ]
  }
 ],
 "metadata": {
  "kernelspec": {
   "display_name": "Python 3 (ipykernel)",
   "language": "python",
   "name": "python3"
  },
  "language_info": {
   "codemirror_mode": {
    "name": "ipython",
    "version": 3
   },
   "file_extension": ".py",
   "mimetype": "text/x-python",
   "name": "python",
   "nbconvert_exporter": "python",
   "pygments_lexer": "ipython3",
   "version": "3.11.5"
  }
 },
 "nbformat": 4,
 "nbformat_minor": 5
}
